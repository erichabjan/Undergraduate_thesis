{
 "cells": [
  {
   "cell_type": "code",
   "execution_count": null,
   "id": "a9e2f138",
   "metadata": {},
   "outputs": [],
   "source": [
    "import numpy as np\n",
    "import matplotlib.pyplot as plt\n",
    "from astropy.table import Table, join, QTable\n",
    "import astropy.units as u\n",
    "import sys\n",
    "import pyneb as pn\n",
    "from astropy.io import fits\n",
    "import aplpy\n",
    "from matplotlib import gridspec\n",
    "from astropy.io import ascii \n",
    "import scipy\n",
    "from scipy.optimize import curve_fit\n",
    "from scipy.integrate import quad\n",
    "import numpy.linalg as la"
   ]
  },
  {
   "cell_type": "markdown",
   "id": "88c0ab96",
   "metadata": {},
   "source": [
    "### Import the spectra data for NGC 4254"
   ]
  },
  {
   "cell_type": "code",
   "execution_count": null,
   "id": "9f302e13",
   "metadata": {},
   "outputs": [],
   "source": [
    "hdu1 = fits.open('/Users/erich/Downloads/Undergraduate-Research/HII-Region-Jupyter-Notebooks/NGC4254_VorSpectra.fits')"
   ]
  },
  {
   "cell_type": "markdown",
   "id": "419c1191",
   "metadata": {},
   "source": [
    "### Import PHANGS and refitted data"
   ]
  },
  {
   "cell_type": "code",
   "execution_count": null,
   "id": "a44d79e7",
   "metadata": {},
   "outputs": [],
   "source": [
    "infile = open(\"/Users/erich/Downloads/Undergraduate-Research/HII-Region-Jupyter-Notebooks/Nebulae_catalogue_v3.fits\",'rb')\n",
    "hdul = Table.read(infile)\n",
    "galaxy = 'NGC4254'\n",
    "data = hdul[hdul['gal_name'] == f'{galaxy}']\n",
    "\n",
    "infile = open(\"/Users/erich/Downloads/Undergraduate-Research/HII-Region-Jupyter-Notebooks/Nebulae_catalogue_v2_refitNII_refitSIII.fits\",'rb')\n",
    "hdul = Table.read(infile)\n",
    "galaxy = 'NGC4254'\n",
    "siiidata = hdul[hdul['GAL_NAME'] == f'{galaxy}']\n",
    "\n",
    "infile = open(\"/Users/erich/Downloads/Undergraduate-Research/HII-Region-Jupyter-Notebooks/Nebulae_catalogue_v2_refitNII_refitTe.fits\",'rb')\n",
    "hdul = Table.read(infile)\n",
    "galaxy = 'NGC4254'\n",
    "niidata = hdul[hdul['GAL_NAME'] == f'{galaxy}']"
   ]
  },
  {
   "cell_type": "markdown",
   "id": "44f79d59",
   "metadata": {},
   "source": [
    "### Define variables for the spectra and wavelength data"
   ]
  },
  {
   "cell_type": "code",
   "execution_count": null,
   "id": "8287e9ad",
   "metadata": {},
   "outputs": [],
   "source": [
    "lam = np.exp(hdu1[2].data['LOGLAM'])\n",
    "log_spec = hdu1[1].data['SPEC']"
   ]
  },
  {
   "cell_type": "markdown",
   "id": "27368024",
   "metadata": {},
   "source": [
    "### Find the Spectral Resolution ($\\sigma$) using the given range from Emsellem et al. 2020 and the doppler shift equation"
   ]
  },
  {
   "cell_type": "code",
   "execution_count": null,
   "id": "85ec18b4",
   "metadata": {},
   "outputs": [],
   "source": [
    "deswave = 7319\n",
    "dopv = 126.47 - 0.00978*deswave\n",
    "delwav = (deswave * dopv * 10**13) / (3 * 10**8 * 10**10)"
   ]
  },
  {
   "cell_type": "markdown",
   "id": "8efffd20",
   "metadata": {},
   "source": [
    "### Pick a region and set the boundaries for fitting"
   ]
  },
  {
   "cell_type": "code",
   "execution_count": null,
   "id": "f5e67bec",
   "metadata": {},
   "outputs": [],
   "source": [
    "regnum = 1557     #173 seems to be the brightest region in the catalog. Other good regions: 1557\n",
    "lowerbound = 7280\n",
    "wave0 = 7320*(data[regnum]['HA6562_VEL']+2388)/(299792) + 7320\n",
    "upperbound = wave0 + 5\n",
    "wavrange = lam[np.where(lam > lowerbound)[0][0]:np.where(lam > upperbound)[0][0]]\n",
    "fluxrange = log_spec[regnum][np.where(lam > lowerbound)[0][0]:np.where(lam > upperbound)[0][0]]\n",
    "wave0"
   ]
  },
  {
   "cell_type": "markdown",
   "id": "66c400a8",
   "metadata": {},
   "source": [
    "### The code below defines a guassian distribution and fits parameters to the 'regnum' NGC 4254 region for the OII 7319 line"
   ]
  },
  {
   "cell_type": "code",
   "execution_count": null,
   "id": "c3fc428b",
   "metadata": {},
   "outputs": [],
   "source": [
    "def gauss(x, C, a):    #a:amplitude, x0:average wavelength, sig:stdev, C:zero offeset\n",
    "    return a * np.exp((-(x-wave0) ** 2)/ (2 * delwav ** 2)) + C\n",
    "\n",
    "fluxave = np.mean(fluxrange)\n",
    "p0 = np.array([fluxave, 500])  #1 / (2*np.sqrt(2*np.log(2)))\n",
    "\n",
    "param, paramcov = curve_fit(gauss, wavrange, fluxrange, p0)\n",
    "param"
   ]
  },
  {
   "cell_type": "markdown",
   "id": "c8f5b8f0",
   "metadata": {},
   "source": [
    "### The code below defines a function without the 'C' offset"
   ]
  },
  {
   "cell_type": "code",
   "execution_count": null,
   "id": "32a92650",
   "metadata": {},
   "outputs": [],
   "source": [
    "def gauss_noC(x, a):  #a:amplitude, x0:average wavelength, sig:stdev, C:zero offeset\n",
    "    sig = 1.339137\n",
    "    return a * np.exp((-(x-wave0) ** 2)/ (2 * sig ** 2))"
   ]
  },
  {
   "cell_type": "markdown",
   "id": "c0179018",
   "metadata": {},
   "source": [
    "### The code below uses scipy's integrate.quad() function to find the flux values from the gaussian fits"
   ]
  },
  {
   "cell_type": "code",
   "execution_count": null,
   "id": "22a41c56",
   "metadata": {},
   "outputs": [],
   "source": [
    "ftest = quad(gauss_noC, wave0 - 10, wave0 + 10, args=(param[1]))[0]\n",
    "noise1 = np.std(log_spec[regnum][np.where(lam > wave0 - 100)[0][0]:np.where(lam > wave0 - 20)[0][0]])\n",
    "noise2 = np.std(log_spec[regnum][np.where(lam > wave0 + 40)[0][0]:np.where(lam > wave0 + 100)[0][0]])\n",
    "noise = (noise1 + noise2)/2\n",
    "signal = param[1]\n",
    "ston = signal/noise\n",
    "print(f'A flux value of {ftest} with a S/N of {ston}')\n",
    "intrange = lam[np.where(lam > wave0 - 10 * delwav)[0][0]:np.where(lam > wave0 + 10 * delwav)[0][0]]"
   ]
  },
  {
   "cell_type": "markdown",
   "id": "7dbc1a81",
   "metadata": {},
   "source": [
    "### The code below plots the spectra of the first region in NGC 4254"
   ]
  },
  {
   "cell_type": "code",
   "execution_count": null,
   "id": "186d6a2e",
   "metadata": {},
   "outputs": [],
   "source": [
    "fig = plt.figure()\n",
    "fig.set_size_inches(10, 4)\n",
    "\n",
    "plt.plot(lam, log_spec[regnum], label='Emission Spectrum')\n",
    "plt.axvline(7330, color='r', label='7330 Angstrom')\n",
    "plt.axvline(7319, color='purple', label='7320 Angstrom')\n",
    "#plt.plot(wavrange, fluxrange, color='orange', linestyle='--', label='Gaussian Fit Range')\n",
    "plt.plot(wavrange, gauss(wavrange, param[0], param[1]), color='green', label='Gaussian Fit')\n",
    "plt.axvline(wave0, color='cyan', linestyle='--', label='Redshifted [O II]7320')\n",
    "plt.fill_between(lam[np.where(lam > wave0 - 100)[0][0]:np.where(lam > wave0 - 20)[0][0]], param[0]*100, color='purple', alpha = 0.15, label='Noise')\n",
    "plt.fill_between(lam[np.where(lam > wave0 + 40)[0][0]:np.where(lam > wave0 + 100)[0][0]], param[0]*100, color='purple', alpha = 0.15)\n",
    "\n",
    "plt.xlim(wave0-120, wave0+120)\n",
    "plt.ylim(fluxave - fluxave*0.75, fluxave + fluxave*0.75)\n",
    "plt.legend(loc='best')\n",
    "plt.xlabel('Wavelength [Angstrom]', fontsize=15)\n",
    "plt.ylabel(r'Flux [$\\frac{erg}{cm^{2} \\cdot s \\cdot Angstrom}$]', fontsize=15)"
   ]
  },
  {
   "cell_type": "markdown",
   "id": "a2248c83",
   "metadata": {},
   "source": [
    "### The code below is a function for refitting the [OII]7319 line"
   ]
  },
  {
   "cell_type": "code",
   "execution_count": null,
   "id": "616927b7",
   "metadata": {},
   "outputs": [],
   "source": [
    "def refit7319(inwave, influx, snval, phdata, galvel):\n",
    "    \n",
    "    def gaussian(x, C, a):    #a:amplitude, x0:average wavelength, delwave:spectral resolution, C:zero offeset\n",
    "        return a * np.exp((-(x-w0) ** 2)/ (2 * delwave ** 2)) + C\n",
    "    \n",
    "    def gaussian_noC(x, a):\n",
    "        return a * np.exp((-(x-w0) ** 2)/ (2 * delwave ** 2))\n",
    "\n",
    "    signoise = np.zeros([len(influx)])\n",
    "    delwave = 1.3391374247333334\n",
    "    outflux = np.zeros(len(influx))\n",
    "    wavelength = 7320\n",
    "    for i in range(len(influx)):\n",
    "        lowb = 7280\n",
    "        w0 = wavelength*(phdata[i]['HA6562_VEL']+galvel)/(299792) + wavelength\n",
    "        highb = w0 + 5        #plus five to not include [O II]7330 peak\n",
    "        low = np.where(inwave > lowb)[0][0]\n",
    "        up = np.where(inwave > highb)[0][0]\n",
    "        waves = inwave[low:up]\n",
    "        fluxes = influx[i][low:up]\n",
    "        fluxaves = np.mean(fluxes)\n",
    "        p0list = np.array([fluxaves, 500])\n",
    "        \n",
    "        try:\n",
    "            param, paramcov = curve_fit(gaussian, waves, fluxes, p0list)\n",
    "        except:\n",
    "            outflux[i] = np.nan\n",
    "            \n",
    "        flux = quad(gaussian_noC, w0 - 10 * delwave, w0 + 10 * delwave, args=(param[1]))[0]\n",
    "        signal = param[1]\n",
    "        noise1 = np.std(influx[i][np.where(inwave > w0 - 100)[0][0]:np.where(inwave > w0 - 20)[0][0]])\n",
    "        noise2 = np.std(influx[i][np.where(inwave > w0 + 40)[0][0]:np.where(inwave > w0 + 100)[0][0]])\n",
    "        noise = (noise1 + noise2)/2 \n",
    "        fluxpeak = np.max(influx[i][np.where(inwave > lowb)[0][0]:np.where(inwave > highb)[0][0]])\n",
    "        rangepeak = np.max(fluxes)\n",
    "        signoise[i] = signal/noise\n",
    "        \n",
    "        if signal/noise > snval and flux > 0: #and fluxpeak == rangepeak: \n",
    "            outflux[i] = flux\n",
    "        else: \n",
    "            outflux[i] = np.nan\n",
    "    \n",
    "    return outflux, signoise"
   ]
  },
  {
   "cell_type": "code",
   "execution_count": null,
   "id": "8f91081d",
   "metadata": {},
   "outputs": [],
   "source": [
    "ref7319, snlist = refit7319(lam, log_spec, 3, data, 2388)\n",
    "ref7319"
   ]
  },
  {
   "cell_type": "markdown",
   "id": "b8fecf7b",
   "metadata": {},
   "source": [
    "## Plot the Refitted [O II]7319 lines with the refitted [N II]5754 lines"
   ]
  },
  {
   "cell_type": "code",
   "execution_count": null,
   "id": "8ae375b9",
   "metadata": {},
   "outputs": [],
   "source": [
    "plt.scatter(niidata['NII5754_FLUX_CORR'], niidata['NII5754_FLUX_CORR_REFIT'], s=1, c='blue', label='K.Kreckel - [NII]5754')\n",
    "plt.scatter(ref7319, data['OII7319_FLUX'], s=10, c='red', label='Eric - [OII]7319')\n",
    "plt.xlabel(r'Refitted Lines [$\\frac{erg}{cm^{2}s}$]')\n",
    "plt.ylabel(r'PHANGS-MUSE Nebular Catalog [$\\frac{erg}{cm^{2}s}$]')\n",
    "plt.legend(loc='upper left')\n",
    "#plt.xlim(-10**3, 0.3 * 10**5)\n",
    "#plt.ylim(-10**3, 10**4)\n",
    "plt.grid()"
   ]
  },
  {
   "cell_type": "code",
   "execution_count": null,
   "id": "5529b51c",
   "metadata": {},
   "outputs": [],
   "source": [
    "count = 0\n",
    "for i in range(len(snlist)):\n",
    "    if snlist[i] > 3:\n",
    "        count += 1\n",
    "print(count)"
   ]
  },
  {
   "cell_type": "code",
   "execution_count": null,
   "id": "3a5b25d3",
   "metadata": {},
   "outputs": [],
   "source": [
    "count = 0\n",
    "for i in range(len(ref7319)):\n",
    "    if np.isnan(ref7319[i]) == False:\n",
    "        count += 1\n",
    "print(count)"
   ]
  },
  {
   "cell_type": "markdown",
   "id": "ebaac476",
   "metadata": {},
   "source": [
    "# [O II]7330 Refitting"
   ]
  },
  {
   "cell_type": "markdown",
   "id": "615b2b1e",
   "metadata": {},
   "source": [
    "### Starting values for [OII]7330 line"
   ]
  },
  {
   "cell_type": "code",
   "execution_count": null,
   "id": "00935163",
   "metadata": {},
   "outputs": [],
   "source": [
    "rnum = 1557\n",
    "wave7330 = 7330*(data[regnum]['HA6562_VEL']+2388)/(299792) + 7330\n",
    "lbound = wave7330 - 5\n",
    "ubound = wave7330 + 100\n",
    "wrange = lam[np.where(lam > lbound)[0][0]:np.where(lam > ubound)[0][0]]\n",
    "frange = log_spec[rnum][np.where(lam > lbound)[0][0]:np.where(lam > ubound)[0][0]]\n",
    "deswave = 7330\n",
    "dopv = 126.47 - 0.00978*deswave\n",
    "del7330 = (deswave * dopv * 10**13) / (3 * 10**8 * 10**10)\n",
    "wave7330"
   ]
  },
  {
   "cell_type": "markdown",
   "id": "7ac8977a",
   "metadata": {},
   "source": [
    "### [OII]7330 Gaussian Fit"
   ]
  },
  {
   "cell_type": "code",
   "execution_count": null,
   "id": "f2d40e57",
   "metadata": {},
   "outputs": [],
   "source": [
    "def gauss7330(x, C, a):    #a:amplitude, x0:average wavelength, sig:stdev, C:zero offeset\n",
    "    return a * np.exp((-(x-wave7330) ** 2)/ (2 * del7330 ** 2)) + C\n",
    "\n",
    "def gauss_noC_7330(x, a):  #a:amplitude, x0:average wavelength, sig:stdev, C:zero offeset\n",
    "    return a * np.exp((-(x-wave0) ** 2)/ (2 * del7330 ** 2))"
   ]
  },
  {
   "cell_type": "markdown",
   "id": "04c07e76",
   "metadata": {},
   "source": [
    "### Fit [OII]7330 line"
   ]
  },
  {
   "cell_type": "code",
   "execution_count": null,
   "id": "ec95ade4",
   "metadata": {},
   "outputs": [],
   "source": [
    "fave = np.mean(frange)\n",
    "p0 = np.array([fave, 500])\n",
    "\n",
    "param, paramcov = curve_fit(gauss7330, wrange, frange, p0)\n",
    "param"
   ]
  },
  {
   "cell_type": "markdown",
   "id": "99a653e6",
   "metadata": {},
   "source": [
    "### Use fit parameters to find flux and S/N"
   ]
  },
  {
   "cell_type": "code",
   "execution_count": null,
   "id": "c03080c8",
   "metadata": {},
   "outputs": [],
   "source": [
    "flux = quad(gauss_noC_7330, wave7330 - 10 * del7330, wave7330 + 10 * del7330, args=(param[1]))[0]\n",
    "sig = param[1]\n",
    "noise1 = np.std(log_spec[regnum][np.where(lam > wave7330 - 100)[0][0]:np.where(lam > wave7330 - 20)[0][0]])\n",
    "noise2 = np.std(log_spec[regnum][np.where(lam > wave7330 + 40)[0][0]:np.where(lam > wave7330 + 100)[0][0]])\n",
    "noise = (noise1 + noise2)/2\n",
    "ston = sig/noise\n",
    "print(f'A flux value of {flux} with a S/N of {ston}')"
   ]
  },
  {
   "cell_type": "markdown",
   "id": "5ccad010",
   "metadata": {},
   "source": [
    "### Plot continuum and fit"
   ]
  },
  {
   "cell_type": "code",
   "execution_count": null,
   "id": "e617249e",
   "metadata": {},
   "outputs": [],
   "source": [
    "fig = plt.figure()\n",
    "fig.set_size_inches(10, 4)\n",
    "\n",
    "plt.plot(lam, log_spec[rnum], label='Emission Spectrum')\n",
    "plt.axvline(7330, color='r', label='7330 Angstrom')\n",
    "plt.axvline(7319, color='purple', label='7319 Angstrom')\n",
    "#plt.plot(wrange, frange, color='orange', linestyle='--', label='Gaussian Fit Range')\n",
    "plt.plot(wrange, gauss7330(wrange, param[0], param[1]), color='green', label='Gaussian Fit')\n",
    "plt.axvline(wave7330, color='cyan', linestyle='--', label='Redshifted [O II]7330')\n",
    "plt.fill_between(lam[np.where(lam > wave7330 - 100)[0][0]:np.where(lam > wave7330 - 20)[0][0]], param[0]*100, color='purple', alpha = 0.15, label='Noise')\n",
    "plt.fill_between(lam[np.where(lam > wave7330 + 40)[0][0]:np.where(lam > wave7330 + 100)[0][0]], param[0]*100, color='purple', alpha = 0.15)\n",
    "\n",
    "plt.xlim(7250, 7500)\n",
    "plt.ylim(fave - fave*0.75, fave + fave*0.75)\n",
    "plt.legend(loc='lower right')\n",
    "plt.xlabel('Wavelength [Angstrom]', fontsize=15)\n",
    "plt.ylabel(r'Flux [$\\frac{erg}{cm^{2} \\cdot s \\cdot Angstrom}$]', fontsize=15)"
   ]
  },
  {
   "cell_type": "markdown",
   "id": "d0745cb0",
   "metadata": {},
   "source": [
    "### Below is a function to refit the [OII]7330 line "
   ]
  },
  {
   "cell_type": "code",
   "execution_count": null,
   "id": "3e27dc27",
   "metadata": {},
   "outputs": [],
   "source": [
    "def refit7330(inwave, influx, snval, indata, galvel):\n",
    "    outflux = np.zeros(len(influx))\n",
    "    wave = 7330\n",
    "    dopv = 126.47 - 0.00978*wave\n",
    "    d7330 = (wave * dopv * 10**13) / (3 * 10**8 * 10**10)\n",
    "    \n",
    "    def gaussian(x, C, a):    #a:amplitude, wavelength:feature wavelength, d7330:spectral resolution, C:zero offeset\n",
    "        return a * np.exp((-(x-wavelength) ** 2)/ (2 * d7330 ** 2)) + C\n",
    "    \n",
    "    def gaussian_noC(x, a): \n",
    "        return a * np.exp((-(x-wavelength) ** 2)/ (2 * d7330 ** 2))\n",
    "    \n",
    "    for i in range(len(influx)):\n",
    "        wavelength = wave*(indata[i]['HA6562_VEL']+galvel)/(299792) + wave\n",
    "        lowb = wavelength - 5\n",
    "        highb = wavelength +100\n",
    "        waves = inwave[np.where(inwave > lowb)[0][0]:np.where(inwave > highb)[0][0]]\n",
    "        fluxes = influx[i][np.where(inwave > lowb)[0][0]:np.where(inwave > highb)[0][0]]\n",
    "        fluxaves = np.mean(fluxes)\n",
    "        p0list = np.array([fluxaves, 500])\n",
    "        \n",
    "        try:\n",
    "            param, paramcov = curve_fit(gaussian, waves, fluxes, p0list)\n",
    "        except:\n",
    "            outflux[i] = np.nan\n",
    "            \n",
    "        flux = quad(gaussian_noC, wavelength - 10 * d7330, wavelength + 10 * d7330, args=(param[1]))[0]\n",
    "        sig = param[1]\n",
    "        noise1 = np.std(influx[i][np.where(inwave > wavelength - 100)[0][0]:np.where(inwave > wavelength - 20)[0][0]])\n",
    "        noise2 = np.std(influx[i][np.where(inwave > wavelength + 40)[0][0]:np.where(inwave > wavelength + 100)[0][0]])\n",
    "        noise = (noise1 + noise2)/2\n",
    "        fluxpeak = np.max(influx[i][np.where(inwave > lowb + 20)[0][0]:np.where(inwave > highb)[0][0]])\n",
    "        rangepeak = np.max(fluxes)\n",
    "        if sig/noise > snval and flux > 0 and fluxpeak == rangepeak:\n",
    "            outflux[i] = flux\n",
    "        else: \n",
    "            outflux[i] = np.nan\n",
    "    \n",
    "    return outflux"
   ]
  },
  {
   "cell_type": "code",
   "execution_count": null,
   "id": "57cf23c2",
   "metadata": {},
   "outputs": [],
   "source": [
    "ref7330 = refit7330(lam, log_spec, 3, data, 2388)\n",
    "ref7330"
   ]
  },
  {
   "cell_type": "code",
   "execution_count": null,
   "id": "16793923",
   "metadata": {
    "scrolled": false
   },
   "outputs": [],
   "source": [
    "plt.scatter(niidata['NII5754_FLUX_CORR'], niidata['NII5754_FLUX_CORR_REFIT'], s=1, c='blue', alpha = 0.5, label='[NII]5754')\n",
    "#plt.scatter(ref7319, data['OII7319_FLUX'], s=1, c='red', alpha =0.5, label='[OII]7319')\n",
    "plt.scatter(ref7330, data['OII7330_FLUX'], s=100, c='green', alpha =0.5, label='[OII]7330')\n",
    "plt.xlabel(r'Refitted Lines [$\\frac{erg}{cm^{2}s}$]')\n",
    "plt.ylabel(r'PHANGS Catalog [$\\frac{erg}{cm^{2}s}$]')\n",
    "plt.legend(loc='upper left')\n",
    "plt.xlim(-10**3, 10**4)\n",
    "plt.ylim(-10**3, 10**4)\n",
    "plt.grid()"
   ]
  },
  {
   "cell_type": "code",
   "execution_count": null,
   "id": "859aee1a",
   "metadata": {},
   "outputs": [],
   "source": [
    "count = 0\n",
    "for i in range(len(ref7330)):\n",
    "    if np.isnan(ref7330[i]) == False:\n",
    "        count += 1\n",
    "print(count)"
   ]
  },
  {
   "cell_type": "code",
   "execution_count": null,
   "id": "14fd75ef",
   "metadata": {},
   "outputs": [],
   "source": [
    "count = 0\n",
    "for i in range(len(ref7319)):\n",
    "    if np.isnan(ref7319[i]) == False:\n",
    "        count += 1\n",
    "print(count)"
   ]
  },
  {
   "cell_type": "markdown",
   "id": "593080a4",
   "metadata": {},
   "source": [
    "# Refitting the [NII]5755 line"
   ]
  },
  {
   "cell_type": "code",
   "execution_count": null,
   "id": "a5b4c69a",
   "metadata": {},
   "outputs": [],
   "source": [
    "dopv = 126.47 - 0.00978*niiwav\n",
    "delwave = (niiwav * dopv * 10**13) / (3 * 10**8 * 10**10)\n",
    "delwave"
   ]
  },
  {
   "cell_type": "code",
   "execution_count": null,
   "id": "f7003242",
   "metadata": {},
   "outputs": [],
   "source": [
    "rnum = 1557\n",
    "niiwav = 5755\n",
    "redwave = niiwav*(data[rnum]['HA6562_VEL']+2388)/(299792) + niiwav\n",
    "#redwave = niiwav*(2388)/(299792) + niiwav\n",
    "low = redwave - 50\n",
    "#high = lam[np.where(log_spec[rnum] == 0)[0][0]-1]\n",
    "high = redwave + delwave*2.2\n",
    "waverange = lam[np.where(lam > low)[0][0]:np.where(lam > high)[0][0]]\n",
    "fluxrange = log_spec[rnum][np.where(lam > low)[0][0]:np.where(lam > high)[0][0]]\n",
    "fluxave = np.mean(fluxrange)\n",
    "p0list = np.array([fluxave, 500])\n",
    "redwave"
   ]
  },
  {
   "cell_type": "code",
   "execution_count": null,
   "id": "28705d20",
   "metadata": {},
   "outputs": [],
   "source": [
    "def gaussian(x, C, a):    #a:amplitude, x0:average wavelength, delwave:spectral resolution, C:zero offeset\n",
    "        return a * np.exp((-(x-redwave) ** 2)/ (2 * delwave ** 2)) + C\n",
    "    \n",
    "def gaussian_noC(x, a):\n",
    "    return a * np.exp((-(x-redwave) ** 2)/ (2 * delwave ** 2))"
   ]
  },
  {
   "cell_type": "code",
   "execution_count": null,
   "id": "1aaac41b",
   "metadata": {},
   "outputs": [],
   "source": [
    "param, paramcov = curve_fit(gaussian, waverange, fluxrange, p0list)\n",
    "flux = quad(gaussian_noC, redwave - 10 * delwave, redwave + 10 * delwave, args=(param[1]))[0]\n",
    "signal = param[1]\n",
    "noise1 = np.std(log_spec[rnum][np.where(lam > redwave - 150)[0][0]:np.where(lam > redwave - 30)[0][0]])\n",
    "noise2 = np.std(log_spec[rnum][np.where(lam > redwave + 180)[0][0]:np.where(lam > redwave + 250)[0][0]])\n",
    "noise = (noise1+noise2)/2\n",
    "print(f'For region {rnum} a [NII]5755 flux value of {flux} was found with a S/N of {signal/noise}')"
   ]
  },
  {
   "cell_type": "code",
   "execution_count": null,
   "id": "08eae7d7",
   "metadata": {
    "scrolled": false
   },
   "outputs": [],
   "source": [
    "redwave = 5755*(data[rnum]['HA6562_VEL']+2388)/(299792) + 5755\n",
    "\n",
    "fig = plt.figure()\n",
    "fig.set_size_inches(10, 4)\n",
    "\n",
    "plt.axvline(5755, color='green', linestyle='--', label='5755 Angstrom')\n",
    "plt.axvline(redwave, color='cyan', linestyle='--', label='Redshifted [N II]5755')\n",
    "plt.plot(waverange, gaussian(waverange, param[0], param[1]), color = 'black', linestyle='--', label='Gaussian Fit')\n",
    "plt.fill_between(lam[np.where(lam > redwave - 150)[0][0]:np.where(lam > redwave - 30)[0][0]], param[0]*100, color='purple', alpha = 0.15, label='Noise')\n",
    "plt.fill_between(lam[np.where(lam > redwave + 180)[0][0]:np.where(lam > redwave + 250)[0][0]], param[0]*100, color='purple', alpha = 0.15)\n",
    "plt.plot(lam, log_spec[rnum], color = 'red', alpha = 0.5, label='Emission Spectrum')\n",
    "\n",
    "low = redwave - 150\n",
    "high = lam[np.where(log_spec[rnum] == 0)[0][0]]\n",
    "plt.xlim(low - 25, high + 250)\n",
    "peak = np.max(log_spec[rnum][np.where(lam > low)[0][0]:np.where(lam > high)[0][0]])\n",
    "plt.ylim(param[0] - 0.2*param[0], param[0] + 0.2*param[0])\n",
    "plt.legend(loc='best')\n",
    "plt.xlabel('Wavelength [Angstrom]', fontsize=15)\n",
    "plt.ylabel(r'Flux [$\\frac{erg}{cm^{2} \\cdot s \\cdot Angstrom}$]', fontsize=15)"
   ]
  },
  {
   "cell_type": "code",
   "execution_count": null,
   "id": "c7ad0287",
   "metadata": {},
   "outputs": [],
   "source": [
    "def refit5755(inwave, influx, phdata, wavelength, galvel, snval):\n",
    "    \n",
    "    def gaussian(x, C, a):    #a:amplitude, x0:average wavelength, delwave:spectral resolution, C:zero offeset\n",
    "        return a * np.exp((-(x-w0) ** 2)/ (2 * delwave ** 2)) + C\n",
    "    \n",
    "    def gaussian_noC(x, a):\n",
    "        return a * np.exp((-(x-w0) ** 2)/ (2 * delwave ** 2))\n",
    "\n",
    "    signoise = np.zeros([len(influx)])\n",
    "    dopv = 126.47 - 0.00978*wavelength\n",
    "    delwave = (wavelength * dopv * 10**13) / (3 * 10**8 * 10**10)\n",
    "    outflux = np.zeros(len(influx))\n",
    "    for i in range(len(influx)):\n",
    "        w0 = wavelength*(phdata[i]['HA6562_VEL']+galvel)/(299792) + wavelength\n",
    "        lowb = w0 - 150\n",
    "        highb = w0 + 2*delwave\n",
    "        low = np.where(inwave > lowb)[0][0]\n",
    "        up = np.where(inwave > highb)[0][0]\n",
    "        waves = inwave[low:up]\n",
    "        fluxes = influx[i][low:up]\n",
    "        fluxaves = np.mean(fluxes)\n",
    "        p0list = np.array([fluxaves, 500])\n",
    "        \n",
    "        try:\n",
    "            param, paramcov = curve_fit(gaussian, waves, fluxes, p0list)\n",
    "        except:\n",
    "            outflux[i] = np.nan\n",
    "            \n",
    "        flux = quad(gaussian_noC, w0 - 10 * delwave, w0 + 10 * delwave, args=(param[1]))[0]\n",
    "        signal = param[1]\n",
    "        noise1 = np.std(influx[i][np.where(inwave > w0 - 150)[0][0]:np.where(inwave > w0 - 30)[0][0]])\n",
    "        noise2 = np.std(influx[i][np.where(inwave > w0 + 180)[0][0]:np.where(inwave > w0 + 250)[0][0]])\n",
    "        noise = (noise1 + noise2)/2 \n",
    "        fluxpeak = np.max(influx[i][np.where(inwave > lowb)[0][0]:np.where(inwave > highb)[0][0]])\n",
    "        rangepeak = np.max(fluxes)\n",
    "        signoise[i] = signal/noise\n",
    "        \n",
    "        if signal/noise > snval and flux > 0: #and fluxpeak == rangepeak: \n",
    "            outflux[i] = flux\n",
    "        else: \n",
    "            outflux[i] = np.nan\n",
    "    \n",
    "    return outflux, signoise"
   ]
  },
  {
   "cell_type": "code",
   "execution_count": null,
   "id": "77092f63",
   "metadata": {},
   "outputs": [],
   "source": [
    "ref5755, sn5755 = refit5755(lam, log_spec, data, 5755, 2388, 3)\n",
    "ref5755"
   ]
  },
  {
   "cell_type": "code",
   "execution_count": null,
   "id": "46259e40",
   "metadata": {
    "scrolled": true
   },
   "outputs": [],
   "source": [
    "count = 0\n",
    "for i in range(len(ref5755)):\n",
    "    if np.isnan(ref5755[i]) == False:\n",
    "        count += 1\n",
    "print(count)"
   ]
  },
  {
   "cell_type": "code",
   "execution_count": null,
   "id": "2c5814a4",
   "metadata": {},
   "outputs": [],
   "source": [
    "count = 0\n",
    "for i in range(len(niidata['NII5754_FLUX_REFIT'])):\n",
    "    if niidata[i]['NII5754_FLUX_REFIT'] > 3 * niidata[i]['NII5754_FLUX_REFIT_ERR']:\n",
    "        count += 1\n",
    "print(count)"
   ]
  },
  {
   "cell_type": "code",
   "execution_count": null,
   "id": "e0a19275",
   "metadata": {},
   "outputs": [],
   "source": [
    "count = 0\n",
    "for i in range(len(ref5755)):\n",
    "    if sn5755[i] > 1.5:\n",
    "        count += 1\n",
    "print(count)"
   ]
  },
  {
   "cell_type": "code",
   "execution_count": null,
   "id": "adca9c26",
   "metadata": {},
   "outputs": [],
   "source": [
    "plt.scatter(ref5755, niidata['NII5754_FLUX_REFIT'], s=10, c='blue', alpha = 0.5, label='[NII]5755')\n",
    "plt.plot(np.linspace(-50, 10**5, 1000), np.linspace(-50, 10**5, 1000), c='black', label='1-to-1 line')\n",
    "plt.xlabel(r'Eric - Refitted Lines NII [$\\frac{erg}{cm^{2}s}$]')\n",
    "plt.ylabel(r'K. Kreckel - Refitted Lines NII [$\\frac{erg}{cm^{2}s}$]')\n",
    "plt.legend(loc='upper left')\n",
    "plt.xlim(0, 0.2 * 10**5)\n",
    "plt.ylim(0, 0.2 * 10**5)\n",
    "plt.grid()"
   ]
  },
  {
   "cell_type": "code",
   "execution_count": null,
   "id": "f10cd201",
   "metadata": {},
   "outputs": [],
   "source": [
    "plt.scatter(ref5755, (data['NII5754_FLUX'] - ref5755)/ref5755, s=25, c='blue', label='Eric')\n",
    "#plt.scatter(niidata['NII5754_FLUX_REFIT'], (data['NII5754_FLUX'] - niidata['NII5754_FLUX_REFIT'])/niidata['NII5754_FLUX_REFIT'], s=10, c='red', alpha = 0.5, label='K. Kreckel')\n",
    "plt.xlabel(r'Refitted Lines NII [$\\frac{erg}{cm^{2}s}$]')\n",
    "plt.ylabel(r'Relative Difference between Refits and Nebular Catalog')\n",
    "plt.legend(loc='upper right')\n",
    "plt.xlim(-5, 0.2 * 10**5)\n",
    "#plt.ylim(-100, 100)\n",
    "plt.grid()"
   ]
  },
  {
   "cell_type": "markdown",
   "id": "4753c861",
   "metadata": {},
   "source": [
    "# Refitting the [SIII]6312 Line"
   ]
  },
  {
   "cell_type": "code",
   "execution_count": null,
   "id": "d5860019",
   "metadata": {},
   "outputs": [],
   "source": [
    "rnum = 93\n",
    "siiiwav = 6312\n",
    "redwave = siiiwav*(data[rnum]['HA6562_VEL']+2388)/(299792) + siiiwav\n",
    "low = redwave - 7.5\n",
    "high = redwave + 45 #lam[np.where(log_spec[rnum] == 0)[0][0]-1]\n",
    "waverange = lam[np.where(lam > low)[0][0]:np.where(lam > high)[0][0]]\n",
    "fluxrange = log_spec[rnum][np.where(lam > low)[0][0]:np.where(lam > high)[0][0]]\n",
    "fluxave = np.mean(fluxrange)\n",
    "#w0 = waverange[np.where(np.max(log_spec[rnum][np.where(lam > low)[0][0]:np.where(lam > high)[0][0]]) == log_spec[rnum][np.where(lam > low)[0][0]:np.where(lam > high)[0][0]])]\n",
    "#w0 = float(w0)\n",
    "fluxmax = np.max(log_spec[rnum][np.where(lam > low)[0][0]:np.where(lam > high)[0][0]]) - fluxave\n",
    "dopv = 126.47 - 0.00978*siiiwav\n",
    "delwave = (siiiwav * dopv * 10**13) / (3 * 10**8 * 10**10)\n",
    "\n",
    "p0list = np.array([fluxave, fluxmax, redwave, delwave])\n",
    "\n",
    "siiiwav*(data[rnum]['HA6562_VEL']+2388)/(299792)"
   ]
  },
  {
   "cell_type": "code",
   "execution_count": null,
   "id": "af9d77f0",
   "metadata": {},
   "outputs": [],
   "source": [
    "def gaussian(x, C, a, w0, sig):    #a:amplitude, x0:average wavelength, delwave:spectral resolution, C:zero offeset\n",
    "        return a * np.exp((-(x-w0) ** 2)/ (2 * sig ** 2)) + C\n",
    "    \n",
    "def gaussian_noC(x, a, w0, sig):\n",
    "    return a * np.exp((-(x-w0) ** 2)/ (2 * sig ** 2))"
   ]
  },
  {
   "cell_type": "code",
   "execution_count": null,
   "id": "776ec5c7",
   "metadata": {},
   "outputs": [],
   "source": [
    "param, paramcov = curve_fit(gaussian, waverange, fluxrange, p0list)\n",
    "flux = quad(gaussian_noC, redwave - 10 * delwave, redwave + 10 * delwave, args=(param[1], param[2], param[3]))[0]\n",
    "signal = param[1]\n",
    "noise1 = np.std(log_spec[rnum][np.where(lam > redwave - 175)[0][0]:np.where(lam > redwave - 75)[0][0]])\n",
    "noise2 = np.std(log_spec[rnum][np.where(lam > redwave + 75)[0][0]:np.where(lam > redwave + 175)[0][0]])\n",
    "noise = (noise1 + noise2)/2\n",
    "print(f'For region {rnum} a [SIII]6312 flux value of {flux} was found with a S/N of {signal/noise}')"
   ]
  },
  {
   "cell_type": "code",
   "execution_count": null,
   "id": "a50c42d6",
   "metadata": {},
   "outputs": [],
   "source": [
    "param[1]"
   ]
  },
  {
   "cell_type": "code",
   "execution_count": null,
   "id": "23474de0",
   "metadata": {},
   "outputs": [],
   "source": [
    "fig = plt.figure()\n",
    "fig.set_size_inches(10, 4)\n",
    "\n",
    "plt.axvline(siiiwav, color='green', linestyle='--', label=f'{siiiwav} Angstrom')\n",
    "plt.axvline(param[2], color='cyan', linestyle='--', label='Redshifted [S III]6312')\n",
    "plt.axvline(6300*(data[rnum]['HA6562_VEL']+2388)/(299792) + 6300, color='blue', linestyle='--', label='Redshifted [O I]6300')\n",
    "plt.axvline(6363*(data[rnum]['HA6562_VEL']+2388)/(299792) + 6363, color='pink', linestyle='--', label='Redshifted [O I]6363')\n",
    "plt.plot(lam, log_spec[rnum], color = 'red', label='Emission Spectrum')\n",
    "plt.fill_between(lam[np.where(lam > redwave + 75)[0][0]:np.where(lam > redwave + 175)[0][0]], param[0]*100, color='purple', alpha = 0.15, label='Noise')\n",
    "plt.fill_between(lam[np.where(lam > redwave - 175)[0][0]:np.where(lam > redwave - 75)[0][0]], param[0]*100, color='purple', alpha = 0.15)\n",
    "plt.plot(waverange, gaussian(waverange, param[0], param[1], param[2], param[3]), color = 'black', label='Gaussian Fit')\n",
    "\n",
    "plt.xlim(low - 200, redwave + 200)\n",
    "plt.ylim(0, param[0] + 1.5*param[0])\n",
    "plt.legend(loc='best')\n",
    "plt.xlabel('Wavelength [Angstrom]', fontsize=15)\n",
    "plt.ylabel(r'Flux [$\\frac{erg}{cm^{2} \\cdot s \\cdot Angstrom}$]', fontsize=15)"
   ]
  },
  {
   "cell_type": "code",
   "execution_count": null,
   "id": "434f71c0",
   "metadata": {},
   "outputs": [],
   "source": [
    "def refit6312(inwave, influx, phdata, wavelength, galvel, snval):\n",
    "    \n",
    "    def gaussian(x, C, a, w0):    #a:amplitude, x0:average wavelength, delwave:spectral resolution, C:zero offeset\n",
    "        return a * np.exp((-(x-w0) ** 2)/ (2 * delwave ** 2)) + C\n",
    "    \n",
    "    def gaussian_noC(x, a, w0):\n",
    "        return a * np.exp((-(x-w0) ** 2)/ (2 * delwave ** 2))\n",
    "\n",
    "    signoise = np.zeros([len(influx)])\n",
    "    dopv = 126.47 - 0.00978*wavelength\n",
    "    delwave = (wavelength * dopv * 10**13) / (3 * 10**8 * 10**10)\n",
    "    outflux = np.zeros(len(influx))\n",
    "    for i in range(len(influx)):\n",
    "        redwave = wavelength*(phdata[i]['HA6562_VEL']+galvel)/(299792) + wavelength\n",
    "        lowb = redwave - 7.5\n",
    "        highb = redwave + 45\n",
    "        low = np.where(inwave > lowb)[0][0]\n",
    "        up = np.where(inwave > highb)[0][0]\n",
    "        waves = inwave[low:up]\n",
    "        fluxes = influx[i][low:up]\n",
    "        fluxaves = np.mean(fluxes)\n",
    "        p0list = np.array([fluxaves, 500, redwave])\n",
    "        \n",
    "        try:\n",
    "            param, paramcov = curve_fit(gaussian, waves, fluxes, p0list)\n",
    "        except:\n",
    "            outflux[i] = np.nan\n",
    "        \n",
    "        fluxmax = np.max(fluxes)\n",
    "        flux = quad(gaussian_noC, redwave - 10 * delwave, highb, args=(fluxmax-param[0], param[2]))[0]\n",
    "        signal = fluxmax-param[0]\n",
    "        noise1 = np.std(influx[i][np.where(inwave > redwave - 175)[0][0]:np.where(inwave > redwave - 75)[0][0]])\n",
    "        noise2 = np.std(influx[i][np.where(inwave > redwave + 75)[0][0]:np.where(inwave > redwave + 175)[0][0]])\n",
    "        noise = (noise1 + noise2)/2\n",
    "        fluxpeak = np.max(influx[i][np.where(inwave > lowb)[0][0]:np.where(inwave > highb)[0][0]])\n",
    "        rangepeak = np.max(fluxes)\n",
    "        signoise[i] = signal/noise\n",
    "        \n",
    "        if signal/noise > snval and flux > 0: #and fluxpeak == rangepeak: \n",
    "            outflux[i] = flux\n",
    "        else: \n",
    "            outflux[i] = np.nan\n",
    "    \n",
    "    return outflux, signoise"
   ]
  },
  {
   "cell_type": "code",
   "execution_count": null,
   "id": "e9b92e89",
   "metadata": {},
   "outputs": [],
   "source": [
    "ref6312, sn6312 = refit6312(lam, log_spec, data, 6312, 2388, 3)\n",
    "ref6312"
   ]
  },
  {
   "cell_type": "code",
   "execution_count": null,
   "id": "1d5fb2cd",
   "metadata": {},
   "outputs": [],
   "source": [
    "plt.scatter(ref6312, siiidata['SIII6312_FLUX_REFIT'], s=10, c='red', alpha = 0.5, label='[SIII]6312')\n",
    "plt.plot(np.linspace(-50, 10**5, 1000), np.linspace(-50, 10**5, 1000), c='black', label='1-to-1 line')\n",
    "plt.xlabel(r'Eric - Refitted Lines NII [$\\frac{erg}{cm^{2}s}$]')\n",
    "plt.ylabel(r'K. Kreckel - Refitted Lines NII [$\\frac{erg}{cm^{2}s}$]')\n",
    "plt.legend(loc='upper left')\n",
    "plt.xlim(0, 0.2 * 10**5)\n",
    "plt.ylim(0, 0.2 * 10**5)\n",
    "plt.grid()"
   ]
  },
  {
   "cell_type": "code",
   "execution_count": null,
   "id": "edd57017",
   "metadata": {},
   "outputs": [],
   "source": [
    "count = 0\n",
    "for i in range(len(siiidata['SIII6312_FLUX_REFIT'])):\n",
    "    if siiidata[i]['SIII6312_FLUX_REFIT'] > 3 * siiidata[i]['SIII6312_FLUX_REFIT_ERR']:\n",
    "        count += 1\n",
    "print(count)"
   ]
  },
  {
   "cell_type": "code",
   "execution_count": null,
   "id": "28fa021c",
   "metadata": {},
   "outputs": [],
   "source": [
    "len(np.where(np.isnan(ref6312)==False)[0])"
   ]
  },
  {
   "cell_type": "code",
   "execution_count": null,
   "id": "981cec9a",
   "metadata": {},
   "outputs": [],
   "source": [
    "count = 0\n",
    "regs = np.array([])\n",
    "for i in range(len(siiidata['SIII6312_FLUX_REFIT'])):\n",
    "    if siiidata[i]['SIII6312_FLUX_REFIT'] > 3 * siiidata[i]['SIII6312_FLUX_REFIT_ERR'] and np.isnan(ref6312[i])==True:\n",
    "        count += 1\n",
    "        regs = np.append(regs,int(i))\n",
    "print(count)\n",
    "regs"
   ]
  },
  {
   "cell_type": "markdown",
   "id": "1e16bded",
   "metadata": {},
   "source": [
    "# Correct refits for extinction"
   ]
  },
  {
   "cell_type": "code",
   "execution_count": null,
   "id": "aa30463e",
   "metadata": {},
   "outputs": [],
   "source": [
    "data.add_columns([ref5755, ref6312, ref7319, ref7330], names=('NII5754_FLUX_REFIT','SIII6312_FLUX_REFIT','OII7319_FLUX_REFIT', 'OII7330_FLUX_REFIT'))"
   ]
  },
  {
   "cell_type": "code",
   "execution_count": null,
   "id": "0a33ae46",
   "metadata": {},
   "outputs": [],
   "source": [
    "def corr(indata):\n",
    "    list7319 = [indata[i]['OII7319_FLUX_CORR']/indata[i]['OII7319_FLUX'] for i in range(len(indata))]\n",
    "    new7319 = [indata[i]['OII7319_FLUX_REFIT'] * list7319[i] for i in range(len(indata))]\n",
    "    \n",
    "    list7330 = [indata[i]['OII7330_FLUX_CORR']/indata[i]['OII7330_FLUX'] for i in range(len(indata))]\n",
    "    new7330 = [indata[i]['OII7330_FLUX_REFIT'] * list7330[i] for i in range(len(indata))]\n",
    "    \n",
    "    list5755 = [indata[i]['NII5754_FLUX_CORR']/indata[i]['NII5754_FLUX'] for i in range(len(indata))]\n",
    "    new5755 = [indata[i]['NII5754_FLUX_REFIT'] * list5755[i] for i in range(len(indata))]\n",
    "    \n",
    "    list6312 = [indata[i]['SIII6312_FLUX_CORR']/indata[i]['SIII6312_FLUX'] for i in range(len(indata))]\n",
    "    new6312 = [indata[i]['SIII6312_FLUX_REFIT'] * list6312[i] for i in range(len(indata))]\n",
    "    \n",
    "    indata.add_columns([new5755, new6312, new7319, new7330], names=('NII5754_FLUX_CORR_REFIT', 'SIII6312_FLUX_CORR_REFIT', 'OII7319_FLUX_CORR_REFIT', 'OII7330_FLUX_CORR_REFIT'))\n",
    "\n",
    "    return indata"
   ]
  },
  {
   "cell_type": "code",
   "execution_count": null,
   "id": "4429a103",
   "metadata": {
    "scrolled": true
   },
   "outputs": [],
   "source": [
    "refitdata = corr(data)"
   ]
  },
  {
   "cell_type": "markdown",
   "id": "df2deb8f",
   "metadata": {},
   "source": [
    "# Save all refits to computer"
   ]
  },
  {
   "cell_type": "code",
   "execution_count": null,
   "id": "aff0ad83",
   "metadata": {},
   "outputs": [],
   "source": [
    "refitdata.write('NGC4254_refitdata.fits', overwrite=True)  #, overwrite=True"
   ]
  }
 ],
 "metadata": {
  "kernelspec": {
   "display_name": "Python 3 (ipykernel)",
   "language": "python",
   "name": "python3"
  },
  "language_info": {
   "codemirror_mode": {
    "name": "ipython",
    "version": 3
   },
   "file_extension": ".py",
   "mimetype": "text/x-python",
   "name": "python",
   "nbconvert_exporter": "python",
   "pygments_lexer": "ipython3",
   "version": "3.10.7"
  }
 },
 "nbformat": 4,
 "nbformat_minor": 5
}
