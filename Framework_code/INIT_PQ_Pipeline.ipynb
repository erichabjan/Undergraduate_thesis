{
 "cells": [
  {
   "cell_type": "code",
   "execution_count": null,
   "id": "e21ca492",
   "metadata": {},
   "outputs": [],
   "source": [
    "import numpy as np\n",
    "import matplotlib.pyplot as plt\n",
    "from astropy.table import Table, join, QTable\n",
    "import astropy.units as u\n",
    "import sys\n",
    "import pyneb as pn\n",
    "from multiprocessing import Pool\n",
    "import multiprocessing as mp\n",
    "import math\n",
    "from astropy.table import vstack\n",
    "from multiprocessing.pool import ThreadPool\n",
    "\n",
    "from concurrent.futures import ThreadPoolExecutor"
   ]
  },
  {
   "attachments": {},
   "cell_type": "markdown",
   "id": "3944d659",
   "metadata": {},
   "source": [
    "### Import Refit data"
   ]
  },
  {
   "cell_type": "code",
   "execution_count": null,
   "id": "ef5f3df5",
   "metadata": {},
   "outputs": [],
   "source": [
    "galdic = {1:'NGC4254', 2:'NGC4535', 3:'NGC3351', 4:'NGC2835', 5:'NGC0628'}\n",
    "galaxy = galdic[1]\n",
    "infile = open(f\"/home/habjan/jupfiles/data/{galaxy}_refitdata.fits\",'rb')\n",
    "data = Table.read(infile)\n",
    "galaxy"
   ]
  },
  {
   "attachments": {},
   "cell_type": "markdown",
   "id": "24a2c621",
   "metadata": {},
   "source": [
    "### Set parameters"
   ]
  },
  {
   "cell_type": "code",
   "execution_count": null,
   "id": "4537a570",
   "metadata": {},
   "outputs": [],
   "source": [
    "mciters = 1000\n",
    "snerr = 0"
   ]
  },
  {
   "attachments": {},
   "cell_type": "markdown",
   "id": "c50f1344",
   "metadata": {},
   "source": [
    "### PyNeb Diagnostics"
   ]
  },
  {
   "cell_type": "code",
   "execution_count": null,
   "id": "e9dd0d2f",
   "metadata": {},
   "outputs": [],
   "source": [
    "diags = pn.Diagnostics()"
   ]
  },
  {
   "attachments": {},
   "cell_type": "markdown",
   "id": "8988bf53",
   "metadata": {},
   "source": [
    "### NII Temperature and Denisty Uncertainty function"
   ]
  },
  {
   "cell_type": "code",
   "execution_count": null,
   "id": "24d3d7fa",
   "metadata": {},
   "outputs": [],
   "source": [
    "def niitemperr(indata, iters):\n",
    "    \n",
    "    temperr = np.zeros(iters)\n",
    "    denerr = np.zeros(iters)\n",
    "    \n",
    "    for j in range(iters):\n",
    "        noise5754 = np.random.normal(0, indata['NII5754_FLUX_CORR_REFIT_ERR'])\n",
    "        noise6583 = np.random.normal(0, indata['NII6583_FLUX_CORR_ERR'])\n",
    "        noise6730 = np.random.normal(0, indata['SII6730_FLUX_CORR_ERR'])\n",
    "        noise6716 = np.random.normal(0, indata['SII6716_FLUX_CORR_ERR'])\n",
    "\n",
    "        temperr[j], denerr[j] = diags.getCrossTemDen(diag_tem = '[NII] 5755/6584', diag_den = '[SII] 6731/6716', \n",
    "                                                     value_tem = (indata['NII5754_FLUX_CORR_REFIT']+noise5754)/(indata['NII6583_FLUX_CORR']+noise6583), \n",
    "                                                     value_den = (indata['SII6730_FLUX_CORR']+noise6730)/(indata['SII6716_FLUX_CORR']+noise6716), \n",
    "                                                     guess_tem = 10**4)\n",
    "            \n",
    "    temperr = np.array([temperr[i] for i in range(len(temperr)) if np.isnan(temperr[i]) == False])\n",
    "    denerr = np.array([denerr[i] for i in range(len(denerr)) if np.isnan(denerr[i]) == False])\n",
    "    \n",
    "    return np.std(temperr), np.std(denerr)"
   ]
  },
  {
   "attachments": {},
   "cell_type": "markdown",
   "id": "222c6970",
   "metadata": {},
   "source": [
    "### SIII Temperature and Density Uncertainty Function"
   ]
  },
  {
   "cell_type": "code",
   "execution_count": null,
   "id": "5ed78815",
   "metadata": {},
   "outputs": [],
   "source": [
    "def siiitemperr(indata, iters):\n",
    "    \n",
    "    stemperr = np.zeros(iters)\n",
    "    otemperr = np.zeros(iters)\n",
    "    denerr = np.zeros(iters)\n",
    "    \n",
    "    for j in range(iters):\n",
    "        noise6312 = np.random.normal(0, indata['SIII6312_FLUX_CORR_REFIT_ERR'])\n",
    "        noise9069 = np.random.normal(0, indata['SIII9068_FLUX_CORR_ERR'])\n",
    "        noise6730 = np.random.normal(0, indata['SII6730_FLUX_CORR_ERR'])\n",
    "        noise6716 = np.random.normal(0, indata['SII6716_FLUX_CORR_ERR'])\n",
    "\n",
    "        stemperr[j], denerr[j] = diags.getCrossTemDen(diag_tem = '[SIII] 6312/9069', diag_den = '[SII] 6731/6716', \n",
    "                                                     value_tem = (indata['SIII6312_FLUX_CORR_REFIT']+noise6312)/(indata['SIII9068_FLUX_CORR']+noise9069), \n",
    "                                                     value_den = (indata['SII6730_FLUX_CORR']+noise6730)/(indata['SII6716_FLUX_CORR']+noise6716), \n",
    "                                                     guess_tem = 10**4)\n",
    "        otemperr[j] = 0.7092 * stemperr[j] + 3609.9\n",
    "            \n",
    "    stemperr = np.array([stemperr[i] for i in range(len(stemperr)) if np.isnan(stemperr[i]) == False])\n",
    "    otemperr = np.array([otemperr[i] for i in range(len(otemperr)) if np.isnan(otemperr[i]) == False])\n",
    "    denerr = np.array([denerr[i] for i in range(len(denerr)) if np.isnan(denerr[i]) == False])\n",
    "    \n",
    "    return np.std(stemperr), np.std(otemperr), np.std(denerr)"
   ]
  },
  {
   "attachments": {},
   "cell_type": "markdown",
   "id": "f7a2286b",
   "metadata": {},
   "source": [
    "### Temperature and Denisty Function"
   ]
  },
  {
   "cell_type": "code",
   "execution_count": null,
   "id": "00e56675",
   "metadata": {},
   "outputs": [],
   "source": [
    "def dentemp(indata, err, iters):\n",
    "  \n",
    "  tenii = np.zeros(len(indata))\n",
    "  nenii = np.zeros(len(indata))\n",
    "  teniierr = np.zeros(len(indata))\n",
    "  neniierr = np.zeros(len(indata))\n",
    "  for i in range(len(indata)):\n",
    "        if indata[i]['BPT_NII'] == 0 and indata[i]['NII6583_FLUX_CORR'] > err * indata[i]['NII6583_FLUX_CORR_ERR'] and indata[i]['SII6730_FLUX_CORR'] > err * indata[i]['SII6730_FLUX_CORR_ERR'] and indata[i]['SII6716_FLUX_CORR'] > err * indata[i]['SII6716_FLUX_CORR_ERR'] and indata[i]['NII5754_FLUX_CORR_REFIT'] > err * indata[i]['NII5754_FLUX_CORR_REFIT_ERR']:\n",
    "            tenii[i], nenii[i] = diags.getCrossTemDen(diag_tem = '[NII] 5755/6584', diag_den = '[SII] 6731/6716', \n",
    "                                      value_tem = indata[i]['NII5754_FLUX_CORR_REFIT']/indata[i]['NII6583_FLUX_CORR'], \n",
    "                                                value_den = indata[i]['SII6730_FLUX_CORR']/indata[i]['SII6716_FLUX_CORR'], \n",
    "                                                      guess_tem = 10**4)\n",
    "            teniierr[i], neniierr[i] = niitemperr(indata[i], iters)\n",
    "        else:\n",
    "            tenii[i], nenii[i] = np.nan, np.nan\n",
    "            teniierr[i], neniierr[i] = np.nan, np.nan\n",
    "\n",
    "  tesiii = np.zeros(len(indata))\n",
    "  nesiii = np.zeros(len(indata))\n",
    "  tesiiierr = np.zeros(len(indata))\n",
    "  nesiiierr = np.zeros(len(indata))\n",
    "  teoiii = np.zeros(len(indata))\n",
    "  teoiiierr = np.zeros(len(indata))\n",
    "  for i in range(len(indata)):\n",
    "    if indata[i]['BPT_NII'] == 0 and indata[i]['SIII9068_FLUX_CORR'] > err * indata[i]['SIII9068_FLUX_CORR_ERR'] and indata[i]['SII6730_FLUX_CORR'] > err * indata[i]['SII6730_FLUX_CORR_ERR'] and indata[i]['SII6716_FLUX_CORR'] > err * indata[i]['SII6716_FLUX_CORR_ERR'] and indata[i]['SIII6312_FLUX_CORR_REFIT'] > err * indata[i]['SIII6312_FLUX_CORR_REFIT_ERR']:\n",
    "        tesiii[i], nesiii[i] = diags.getCrossTemDen(diag_tem = '[SIII] 6312/9069', diag_den = '[SII] 6731/6716', \n",
    "                                        value_tem = indata[i]['SIII6312_FLUX_CORR_REFIT']/indata[i]['SIII9068_FLUX_CORR'], \n",
    "                                              value_den = indata[i]['SII6730_FLUX_CORR']/indata[i]['SII6716_FLUX_CORR'], \n",
    "                                                    guess_tem = 10**4)\n",
    "        tesiiierr[i], teoiiierr[i], nesiiierr[i] = siiitemperr(indata[i], iters)\n",
    "\n",
    "        if tesiii[i] < 14000:\n",
    "            teoiii[i] = 0.7092 * tesiii[i] + 3609.9\n",
    "        else: \n",
    "            teoiii[i], teoiiierr[i] = np.nan, np.nan\n",
    "    else: \n",
    "        tesiii[i], nesiii[i] = np.nan, np.nan\n",
    "        tesiiierr[i], nesiiierr[i] = np.nan, np.nan\n",
    "\n",
    "  indata.add_columns([tenii, tesiii, teoiii, nenii, nesiii, teniierr, tesiiierr, teoiiierr, neniierr, nesiiierr], \n",
    "                      names=('NII_TEMP', 'SIII_TEMP','OIII_TEMP', 'SII_DEN_NII', 'SII_DEN_SIII',\n",
    "                            'NII_TEMP_ERR', 'SIII_TEMP_ERR','OIII_TEMP_ERR', 'SII_DEN_NII_ERR', 'SII_DEN_SIII_ERR'))\n",
    "\n",
    "  return indata"
   ]
  },
  {
   "attachments": {},
   "cell_type": "markdown",
   "id": "486d5d3a",
   "metadata": {},
   "source": [
    "# Multiprocessing of Temperature and Density Data"
   ]
  },
  {
   "cell_type": "code",
   "execution_count": null,
   "id": "1cc96aed",
   "metadata": {},
   "outputs": [],
   "source": [
    "if __name__ == \"__main__\":\n",
    "\n",
    "    corenum = 32                            #chosen based of the number of cores\n",
    "    batch = math.ceil(len(data)/corenum)     #batch determines the number of data points in each batched dataset\n",
    "    datalist = [data[i:i+batch] for i in range(0, len(data), batch)] #make list of batched data\n",
    "    \n",
    "    pool = mp.Pool(processes = len(datalist))          #count processes are inititiated\n",
    "    mplist = [pool.apply_async(dentemp, args = (d, snerr, mciters)) for d in datalist] #each batched dataset is assigned to a core "
   ]
  },
  {
   "cell_type": "code",
   "execution_count": null,
   "id": "ca0ece02",
   "metadata": {},
   "outputs": [],
   "source": [
    "results = [mplist[i].get() for i in range(len(mplist))]      #Retrieve parallelized results"
   ]
  },
  {
   "cell_type": "code",
   "execution_count": null,
   "id": "088b8475",
   "metadata": {},
   "outputs": [],
   "source": [
    "#metdata.remove_columns(['MET_DIRECT', 'MET_DIRECT_OII7319', 'MET_DIRECT_OII7330', 'OII_ABUN', 'OIII_ABUN', 'MET_DIRECT_ERR', 'MET_DIRECT_OII7319_ERR', 'MET_DIRECT_OII7330_ERR', 'OII_ABUN_ERR', 'OIII_ABUN_ERR'])\n",
    "#results = [metdata[i:i+batch] for i in range(0, len(metdata), batch)]"
   ]
  },
  {
   "attachments": {},
   "cell_type": "markdown",
   "id": "b9dce63f",
   "metadata": {},
   "source": [
    "# Metallicity"
   ]
  },
  {
   "attachments": {},
   "cell_type": "markdown",
   "id": "acbcfec5",
   "metadata": {},
   "source": [
    "### PyNeb atomic class information"
   ]
  },
  {
   "cell_type": "code",
   "execution_count": null,
   "id": "fe1ec4c6",
   "metadata": {},
   "outputs": [],
   "source": [
    "icf = pn.ICF()\n",
    "O1 = pn.Atom('O', 1)\n",
    "O2 = pn.Atom('O', 2)\n",
    "O3 = pn.Atom('O', 3)\n",
    "icf_list = ['Ial06_16']"
   ]
  },
  {
   "attachments": {},
   "cell_type": "markdown",
   "id": "65bc477a",
   "metadata": {},
   "source": [
    "### Monte Carlo Function for both [OII]7319,7330 derived metallicity"
   ]
  },
  {
   "cell_type": "code",
   "execution_count": null,
   "id": "c50aa362",
   "metadata": {},
   "outputs": [],
   "source": [
    "def errboth(indata, iters):\n",
    "    meterr = np.zeros(iters)\n",
    "    ion2err = np.zeros(iters)\n",
    "    ion3err = np.zeros(iters)\n",
    "    \n",
    "    for j in range(iters):\n",
    "        \n",
    "        noise7319 = np.random.normal(0, indata['OII7319_FLUX_CORR_REFIT_ERR'])\n",
    "        noise7330 = np.random.normal(0, indata['OII7330_FLUX_CORR_REFIT_ERR'])\n",
    "        noisetemp2 = np.random.normal(0, indata['NII_TEMP_ERR'])\n",
    "        noiseden2 = np.random.normal(0, indata['SII_DEN_NII_ERR'])\n",
    "        noise4861 = np.random.normal(0, indata['HB4861_FLUX_CORR_ERR'])\n",
    "        noise5006 = np.random.normal(0, indata['OIII5006_FLUX_CORR_ERR'])\n",
    "        noisetemp3 = np.random.normal(0, indata['OIII_TEMP_ERR'])\n",
    "        noiseden3 = np.random.normal(0, indata['SII_DEN_SIII_ERR'])\n",
    "        \n",
    "        OII = O2.getIonAbundance(int_ratio = (indata['OII7319_FLUX_CORR_REFIT']+noise7319)+(indata['OII7330_FLUX_CORR_REFIT']+noise7330), \n",
    "                                     tem = (indata['NII_TEMP']+noisetemp2), \n",
    "                                     den= (indata['SII_DEN_NII']+noiseden2), to_eval='L(7320)+L(7330)', \n",
    "                                     Hbeta = (indata['HB4861_FLUX_CORR']+noise4861))\n",
    "        OIII = O3.getIonAbundance(int_ratio = (indata['OIII5006_FLUX_CORR']+noise5006), \n",
    "                                      tem = (indata['OIII_TEMP']+noisetemp3), \n",
    "                                      den= (indata['SII_DEN_SIII']+noiseden3), to_eval='L(5007)', \n",
    "                                      Hbeta = (indata['HB4861_FLUX_CORR']+noise4861))\n",
    "            \n",
    "        abunlist = {'O2': OII, 'O3': OIII}\n",
    "        abundance = icf.getElemAbundance(abunlist, icf_list)\n",
    "        meterr[j] = 12 + np.log10(abundance['Ial06_16'])\n",
    "        ion2err[j] = OII\n",
    "        ion3err[j] = OIII\n",
    "        \n",
    "    meterr = np.array([meterr[i] for i in range(len(meterr)) if np.isnan(meterr[i]) == False])\n",
    "    ion2err = np.array([ion2err[i] for i in range(len(ion2err)) if np.isnan(ion2err[i]) == False])\n",
    "    ion3err = np.array([ion3err[i] for i in range(len(ion3err)) if np.isnan(ion3err[i]) == False])\n",
    "    \n",
    "    return np.std(meterr), np.std(ion2err), np.std(ion3err)"
   ]
  },
  {
   "cell_type": "markdown",
   "id": "701dad5a",
   "metadata": {},
   "source": [
    "### Monte Carlo uncertainty for only [OII]7319 derived metallicity"
   ]
  },
  {
   "cell_type": "code",
   "execution_count": null,
   "id": "1daa90af",
   "metadata": {},
   "outputs": [],
   "source": [
    "def err7319(indata, iters):\n",
    "    met7319err = np.zeros(iters)\n",
    "    \n",
    "    for j in range(iters):\n",
    "        \n",
    "        noise7319 = np.random.normal(0, indata['OII7319_FLUX_CORR_REFIT_ERR'])\n",
    "        noisetemp2 = np.random.normal(0, indata['NII_TEMP_ERR'])\n",
    "        noiseden2 = np.random.normal(0, indata['SII_DEN_NII_ERR'])\n",
    "        noise4861 = np.random.normal(0, indata['HB4861_FLUX_CORR_ERR'])\n",
    "        noise5006 = np.random.normal(0, indata['OIII5006_FLUX_CORR_ERR'])\n",
    "        noisetemp3 = np.random.normal(0, indata['OIII_TEMP_ERR'])\n",
    "        noiseden3 = np.random.normal(0, indata['SII_DEN_SIII_ERR'])\n",
    "        \n",
    "        OII = O2.getIonAbundance(int_ratio = (indata['OII7319_FLUX_CORR_REFIT']+noise7319), \n",
    "                                     tem = (indata['NII_TEMP']+noisetemp2), \n",
    "                                     den= (indata['SII_DEN_NII']+noiseden2), to_eval='L(7320)', \n",
    "                                     Hbeta = (indata['HB4861_FLUX_CORR']+noise4861))\n",
    "        OIII = O3.getIonAbundance(int_ratio = (indata['OIII5006_FLUX_CORR']+noise5006), \n",
    "                                      tem = (indata['OIII_TEMP']+noisetemp3), \n",
    "                                      den= (indata['SII_DEN_SIII']+noiseden3), to_eval='L(5007)', \n",
    "                                      Hbeta = (indata['HB4861_FLUX_CORR']+noise4861))\n",
    "            \n",
    "        abunlist = {'O2': OII, 'O3': OIII}\n",
    "        abundance = icf.getElemAbundance(abunlist, icf_list)\n",
    "        met7319err[j] = 12 + np.log10(abundance['Ial06_16'])\n",
    "        \n",
    "    met7319err = np.array([met7319err[i] for i in range(len(met7319err)) if np.isnan(met7319err[i]) == False])\n",
    "    \n",
    "    return np.std(met7319err)"
   ]
  },
  {
   "cell_type": "markdown",
   "id": "34a9d565",
   "metadata": {},
   "source": [
    "### Monte Carlo Uncertainty for only [OII]7330 derived metallicity"
   ]
  },
  {
   "cell_type": "code",
   "execution_count": null,
   "id": "3c409496",
   "metadata": {},
   "outputs": [],
   "source": [
    "def err7330(indata, iters):\n",
    "    met7330err = np.zeros(iters)\n",
    "    \n",
    "    for j in range(iters):\n",
    "        \n",
    "        noise7330 = np.random.normal(0, indata['OII7330_FLUX_CORR_REFIT_ERR'])\n",
    "        noisetemp2 = np.random.normal(0, indata['NII_TEMP_ERR'])\n",
    "        noiseden2 = np.random.normal(0, indata['SII_DEN_NII_ERR'])\n",
    "        noise4861 = np.random.normal(0, indata['HB4861_FLUX_CORR_ERR'])\n",
    "        noise5006 = np.random.normal(0, indata['OIII5006_FLUX_CORR_ERR'])\n",
    "        noisetemp3 = np.random.normal(0, indata['OIII_TEMP_ERR'])\n",
    "        noiseden3 = np.random.normal(0, indata['SII_DEN_SIII_ERR'])\n",
    "        \n",
    "        OII = O2.getIonAbundance(int_ratio = (indata['OII7330_FLUX_CORR_REFIT']+noise7330), \n",
    "                                     tem = (indata['NII_TEMP']+noisetemp2), \n",
    "                                     den= (indata['SII_DEN_NII']+noiseden2), to_eval='L(7330)', \n",
    "                                     Hbeta = (indata['HB4861_FLUX_CORR']+noise4861))\n",
    "        OIII = O3.getIonAbundance(int_ratio = (indata['OIII5006_FLUX_CORR']+noise5006), \n",
    "                                      tem = (indata['OIII_TEMP']+noisetemp3), \n",
    "                                      den= (indata['SII_DEN_SIII']+noiseden3), to_eval='L(5007)', \n",
    "                                      Hbeta = (indata['HB4861_FLUX_CORR']+noise4861))\n",
    "            \n",
    "        abunlist = {'O2': OII, 'O3': OIII}\n",
    "        abundance = icf.getElemAbundance(abunlist, icf_list)\n",
    "        met7330err[j] = 12 + np.log10(abundance['Ial06_16'])\n",
    "        \n",
    "    met7330err = np.array([met7330err[i] for i in range(len(met7330err)) if np.isnan(met7330err[i]) == False])\n",
    "    \n",
    "    return np.std(met7330err)"
   ]
  },
  {
   "attachments": {},
   "cell_type": "markdown",
   "id": "186b9368",
   "metadata": {},
   "source": [
    "### Metllicity Function"
   ]
  },
  {
   "cell_type": "code",
   "execution_count": null,
   "id": "acbe7ce1",
   "metadata": {},
   "outputs": [],
   "source": [
    "def metal(indata, err, iters):\n",
    "\n",
    "    met = np.zeros(len(indata))\n",
    "    ion2 = np.zeros(len(indata))\n",
    "    ion3 = np.zeros(len(indata))\n",
    "    meterr = np.zeros(len(indata))\n",
    "    ion2err = np.zeros(len(indata))\n",
    "    ion3err = np.zeros(len(indata))\n",
    "    \n",
    "    for j in range(len(indata)):\n",
    "        if indata[j]['OII7330_FLUX_CORR_REFIT'] > err * indata[j]['OII7330_FLUX_CORR_REFIT_ERR'] and \\\n",
    "        indata[j]['OII7319_FLUX_CORR_REFIT'] > err * indata[j]['OII7319_FLUX_CORR_REFIT_ERR'] and \\\n",
    "        indata[j]['HB4861_FLUX_CORR'] > err * indata[j]['HB4861_FLUX_CORR'] and \\\n",
    "        indata[j]['OIII5006_FLUX_CORR'] > err * indata[j]['OIII5006_FLUX_CORR_ERR']:\n",
    "            OII = O2.getIonAbundance(int_ratio = (indata[j]['OII7330_FLUX_CORR_REFIT']+indata[j]['OII7319_FLUX_CORR_REFIT']), \n",
    "                                         tem = indata[j]['NII_TEMP'], den= indata[j]['SII_DEN_NII'], \n",
    "                                         to_eval='L(7320)+L(7330)', Hbeta = indata[j]['HB4861_FLUX_CORR'])\n",
    "            OIII = O3.getIonAbundance(int_ratio = indata[j]['OIII5006_FLUX_CORR'], tem = indata[j]['OIII_TEMP'], \n",
    "                                      den= indata[j]['SII_DEN_SIII'], to_eval='L(5007)', \n",
    "                                      Hbeta = indata[j]['HB4861_FLUX_CORR'])\n",
    "            \n",
    "            abunlist = {'O2': OII, 'O3': OIII}\n",
    "            abundance = icf.getElemAbundance(abunlist, icf_list)\n",
    "            met[j] = 12 + np.log10(abundance['Ial06_16'])\n",
    "            ion2[j] = OII\n",
    "            ion3[j] = OIII\n",
    "            meterr[j], ion2err[j], ion3err[j] = errboth(indata[j], iters)\n",
    "        else: \n",
    "            met[j], ion2[j], ion3[j] = np.nan, np.nan, np.nan\n",
    "            meterr[j], ion2err[j], ion3err[j] = np.nan, np.nan, np.nan\n",
    "\n",
    "    met7319 = np.zeros(len(indata))\n",
    "    met7319err = np.zeros(len(indata))\n",
    "    \n",
    "    for j in range(len(indata)):\n",
    "        if indata[j]['OII7319_FLUX_CORR_REFIT'] > err * indata[j]['OII7319_FLUX_CORR_REFIT_ERR'] and \\\n",
    "        indata[j]['HB4861_FLUX_CORR'] > err * indata[j]['HB4861_FLUX_CORR'] and \\\n",
    "        indata[j]['OIII5006_FLUX_CORR'] > err * indata[j]['OIII5006_FLUX_CORR_ERR']:\n",
    "            OII = O2.getIonAbundance(int_ratio = (indata[j]['OII7319_FLUX_CORR_REFIT']), \n",
    "                                         tem = indata[j]['NII_TEMP'], den= indata[j]['SII_DEN_NII'], \n",
    "                                         to_eval='L(7320)', Hbeta = indata[j]['HB4861_FLUX_CORR'])\n",
    "            OIII = O3.getIonAbundance(int_ratio = indata[j]['OIII5006_FLUX_CORR'], tem = indata[j]['OIII_TEMP'], \n",
    "                                      den= indata[j]['SII_DEN_SIII'], to_eval='L(5007)', \n",
    "                                      Hbeta = indata[j]['HB4861_FLUX_CORR'])\n",
    "            \n",
    "            abunlist = {'O2': OII, 'O3': OIII}\n",
    "            abundance = icf.getElemAbundance(abunlist, icf_list)\n",
    "            met7319[j] = 12 + np.log10(abundance['Ial06_16'])\n",
    "            met7319err[j] = err7319(indata[j], iters)\n",
    "        else: \n",
    "            met7319[j], met7319err[j] = np.nan, np.nan\n",
    "\n",
    "    met7330 = np.zeros(len(indata))\n",
    "    met7330err = np.zeros(len(indata))\n",
    "    \n",
    "    for j in range(len(indata)):\n",
    "        if indata[j]['OII7330_FLUX_CORR_REFIT'] > err * indata[j]['OII7330_FLUX_CORR_REFIT_ERR'] and \\\n",
    "        indata[j]['HB4861_FLUX_CORR'] > err * indata[j]['HB4861_FLUX_CORR'] and \\\n",
    "        indata[j]['OIII5006_FLUX_CORR'] > err * indata[j]['OIII5006_FLUX_CORR_ERR']:\n",
    "            OII = O2.getIonAbundance(int_ratio = (indata[j]['OII7330_FLUX_CORR_REFIT']), \n",
    "                                         tem = indata[j]['NII_TEMP'], den= indata[j]['SII_DEN_NII'], \n",
    "                                         to_eval='L(7330)', Hbeta = indata[j]['HB4861_FLUX_CORR'])\n",
    "            OIII = O3.getIonAbundance(int_ratio = indata[j]['OIII5006_FLUX_CORR'], tem = indata[j]['OIII_TEMP'], \n",
    "                                      den= indata[j]['SII_DEN_SIII'], to_eval='L(5007)', \n",
    "                                      Hbeta = indata[j]['HB4861_FLUX_CORR'])\n",
    "            \n",
    "            abunlist = {'O2': OII, 'O3': OIII}\n",
    "            abundance = icf.getElemAbundance(abunlist, icf_list)\n",
    "            met7330[j] = 12 + np.log10(abundance['Ial06_16'])\n",
    "            met7330err[j] = err7330(indata[j], iters)\n",
    "        else: \n",
    "            met7330[j], met7330err[j] = np.nan, np.nan\n",
    "\n",
    "    indata.add_columns([met, met7319, met7330, ion2, ion3, meterr, met7319err, met7330err, ion2err, ion3err],\n",
    "                     names=('MET_DIRECT', 'MET_DIRECT_OII7319', 'MET_DIRECT_OII7330', 'OII_ABUN', 'OIII_ABUN', 'MET_DIRECT_ERR', 'MET_DIRECT_OII7319_ERR', 'MET_DIRECT_OII7330_ERR', 'OII_ABUN_ERR', 'OIII_ABUN_ERR'))\n",
    "\n",
    "    return indata"
   ]
  },
  {
   "attachments": {},
   "cell_type": "markdown",
   "id": "9e1e5679",
   "metadata": {},
   "source": [
    "### Create multiprocessing objects"
   ]
  },
  {
   "cell_type": "code",
   "execution_count": null,
   "id": "35ee6b8c",
   "metadata": {},
   "outputs": [],
   "source": [
    "if __name__ == \"__main__\":\n",
    "    \n",
    "    pool = mp.Pool(processes = len(results))          #count processes are inititiated\n",
    "    mplist2 = [pool.apply_async(metal, args = (r, snerr, 5000)) for r in results]"
   ]
  },
  {
   "attachments": {},
   "cell_type": "markdown",
   "id": "3dbe7406",
   "metadata": {},
   "source": [
    "### Get results from multiprocessing objects"
   ]
  },
  {
   "cell_type": "code",
   "execution_count": null,
   "id": "10d82533",
   "metadata": {},
   "outputs": [],
   "source": [
    "results2 = [mplist2[i].get() for i in range(len(mplist2))]\n",
    "metdata = vstack(results2)"
   ]
  },
  {
   "attachments": {},
   "cell_type": "markdown",
   "id": "3b2385ab",
   "metadata": {},
   "source": [
    "# Plot metallicity Results"
   ]
  },
  {
   "cell_type": "markdown",
   "id": "e7ed6e57",
   "metadata": {},
   "source": [
    "### Convert deprojected distancs to kpc"
   ]
  },
  {
   "cell_type": "code",
   "execution_count": null,
   "id": "7acc4bd5",
   "metadata": {},
   "outputs": [],
   "source": [
    "distdic = {'NGC4254': 13.1 , 'NGC4535': 16.60  , 'NGC3351': 10.0, 'NGC2835': 10.4, 'NGC0628':7.5}\n",
    "dist = distdic[galaxy]\n",
    "kpc = data['deproj_dist'] / 206265 * (dist * 1000)\n",
    "nkpc = np.array([kpc[i] for i in range(len(kpc))])\n",
    "seq = np.linspace(-3, 15, num = 20)"
   ]
  },
  {
   "cell_type": "markdown",
   "id": "20598805",
   "metadata": {},
   "source": [
    "### Best fit for [OII]7319,7330 metallicity"
   ]
  },
  {
   "cell_type": "code",
   "execution_count": null,
   "id": "7cee450b",
   "metadata": {},
   "outputs": [],
   "source": [
    "dirc = np.array([metdata[i]['MET_DIRECT'] for i in range(len(metdata)) if np.isnan(metdata[i]['MET_DIRECT']) == False])\n",
    "direct = np.polyfit(nkpc[np.where(np.isnan(metdata['MET_DIRECT']) == False)], dirc, 1)\n",
    "dirfunc = np.poly1d(direct)\n",
    "np.std(dirc)"
   ]
  },
  {
   "cell_type": "markdown",
   "id": "2dd84a41",
   "metadata": {},
   "source": [
    "### Best fit for [OII]7319 metallicity"
   ]
  },
  {
   "cell_type": "code",
   "execution_count": null,
   "id": "16fa8cf2",
   "metadata": {},
   "outputs": [],
   "source": [
    "dirc7319 = np.array([metdata[i]['MET_DIRECT_OII7319'] for i in range(len(metdata)) if np.isnan(metdata[i]['MET_DIRECT_OII7319']) == False])\n",
    "direct7319 = np.polyfit(nkpc[np.where(np.isnan(metdata['MET_DIRECT_OII7319']) == False)], dirc7319, 1)\n",
    "dirfunc7319 = np.poly1d(direct7319)\n",
    "np.std(dirc7319)"
   ]
  },
  {
   "cell_type": "markdown",
   "id": "8168f850",
   "metadata": {},
   "source": [
    "### Best fit for [OII]7330 metallicity"
   ]
  },
  {
   "cell_type": "code",
   "execution_count": null,
   "id": "a912efea",
   "metadata": {},
   "outputs": [],
   "source": [
    "dirc7330 = np.array([metdata[i]['MET_DIRECT_OII7330'] for i in range(len(metdata)) if np.isnan(metdata[i]['MET_DIRECT_OII7330']) == False])\n",
    "direct7330 = np.polyfit(nkpc[np.where(np.isnan(metdata['MET_DIRECT_OII7330']) == False)], dirc7330, 1)\n",
    "dirfunc7330 = np.poly1d(direct7330)\n",
    "np.std(dirc7330)"
   ]
  },
  {
   "cell_type": "markdown",
   "id": "37ee4e4b",
   "metadata": {},
   "source": [
    "### Best fit for Strong Line metallicity"
   ]
  },
  {
   "cell_type": "code",
   "execution_count": null,
   "id": "80400963",
   "metadata": {},
   "outputs": [],
   "source": [
    "s = np.array([metdata[i]['met_scal'] for i in range(len(metdata)) if np.isnan(metdata[i]['met_scal']) == False])\n",
    "scal = np.polyfit(nkpc[np.where(np.isnan(metdata['met_scal']) == False)], s, 1)\n",
    "scalfunc = np.poly1d(scal)\n",
    "np.std(s)"
   ]
  },
  {
   "cell_type": "markdown",
   "id": "c14d3b79",
   "metadata": {},
   "source": [
    "### Plot results and best fit lines"
   ]
  },
  {
   "cell_type": "code",
   "execution_count": null,
   "id": "71343250",
   "metadata": {},
   "outputs": [],
   "source": [
    "fig = plt.figure()\n",
    "fig.set_size_inches(8, 4)\n",
    "ax1 = fig.add_subplot(111)\n",
    "\n",
    "ax1.scatter(kpc, metdata['met_scal'], s=10, c='orange', marker= '.', alpha=0.7, label='Scal-PG16')\n",
    "ax1.plot(seq, scalfunc(seq), c='orange',  linestyle=\"--\", label=f'Scal-PG16: y = {round(scalfunc[1],3)}x + {round(scalfunc[0],3)}')\n",
    "\n",
    "ax1.scatter(kpc, metdata['MET_DIRECT'], s=30, c='blue', marker= '.', label=f'{len(dirc)} Directly Derived Z from both')\n",
    "ax1.errorbar(kpc, metdata['MET_DIRECT'], yerr = metdata['MET_DIRECT_ERR'], c='blue',alpha=0.35, fmt=\".\", markersize=8, capsize=5)\n",
    "ax1.plot(seq, dirfunc(seq), c='blue', linestyle=\"--\", label=f'Directly Derived: y = {round(dirfunc[1],3)}x + {round(dirfunc[0],3)}')\n",
    "\n",
    "\n",
    "#ax1.scatter(kpc, metdata['MET_DIRECT_OII7330'], s=20, c='k', marker= '*', label=f'{len(dirc7330)} Directly Derived Z from [O II]7330')\n",
    "#ax1.errorbar(kpc, metdata['MET_DIRECT_OII7330'], yerr = metdata['MET_DIRECT_OII7330_ERR'], c='k',alpha=0.35, fmt=\".\", markersize=8, capsize=5)\n",
    "#ax1.plot(seq, dirfunc7330(seq), c='k', linestyle=\"--\", label=f'[OII]7330 Directly Derived: y = {round(dirfunc7330[1],3)}x + {round(dirfunc7330[0],3)}')\n",
    "\n",
    "\n",
    "#ax1.scatter(kpc, metdata['MET_DIRECT_OII7319'], s=20, c='red', marker= 'x', label=f'{len(dirc7319)} Directly Derived Z from [O II]7319')\n",
    "#ax1.errorbar(kpc, metdata['MET_DIRECT_OII7319'], yerr = metdata['MET_DIRECT_OII7319_ERR'], c='red',alpha=0.35, fmt=\".\", markersize=8, capsize=5)\n",
    "#ax1.plot(seq, dirfunc7319(seq), c='red', linestyle=\"--\", label=f'[OII]7320 Directly Derived: y = {round(dirfunc7319[1],3)}x + {round(dirfunc7319[0],3)}')\n",
    "\n",
    "minm = np.min(metdata['MET_DIRECT'][np.where(np.isnan(metdata['MET_DIRECT']) == False)])\n",
    "maxm = np.max(metdata['MET_DIRECT'][np.where(np.isnan(metdata['MET_DIRECT']) == False)])\n",
    "minmerr = np.min(metdata['MET_DIRECT_ERR'][np.where(np.isnan(metdata['MET_DIRECT_ERR']) == False)])\n",
    "maxmerr = np.max(metdata['MET_DIRECT_ERR'][np.where(np.isnan(metdata['MET_DIRECT_ERR']) == False)])\n",
    "plt.xlim([np.min(kpc) - np.min(kpc)*0.01, np.max(kpc) + np.max(kpc)*0.01])\n",
    "#plt.xlim(2, 8.5)\n",
    "plt.ylim([minm - maxmerr*2, maxm + maxmerr*3])\n",
    "\n",
    "plt.xlabel('Galactocentric Radius (kpc)', fontsize=15)\n",
    "plt.ylabel('12 + log(O/H)', fontsize=15)\n",
    "metnum = len(np.where(np.isnan(metdata['MET_DIRECT']) == False)[0])\n",
    "plt.title(f'Metallicity calculations in {galaxy}')\n",
    "plt.legend(bbox_to_anchor=(1.6, 0.5), fontsize=\"9\",loc='center right');\n",
    "plt.show()"
   ]
  },
  {
   "cell_type": "markdown",
   "id": "c98d6066",
   "metadata": {},
   "source": [
    "### Plot a single metallicity versus the strong line metallicities"
   ]
  },
  {
   "cell_type": "code",
   "execution_count": null,
   "id": "f3b972bf",
   "metadata": {},
   "outputs": [],
   "source": [
    "fig = plt.figure()\n",
    "fig.set_size_inches(8, 4)\n",
    "ax1 = fig.add_subplot(111)\n",
    "\n",
    "ax1.scatter(kpc, metdata['met_scal'], s=10, c='orange', marker= '.', alpha=0.7, label='Scal-PG16')\n",
    "ax1.plot(seq, scalfunc(seq), c='orange',  linestyle=\"--\", label=f'Scal-PG16: y = {round(scalfunc[1],3)}x + {round(scalfunc[0],3)}')\n",
    "\n",
    "\n",
    "ax1.scatter(kpc, metdata['MET_DIRECT_OII7319'], s=20, c='red', marker= 'x', label=f'{len(dirc7319)} Directly Derived Z from [O II]7319')\n",
    "ax1.errorbar(kpc, metdata['MET_DIRECT_OII7319'], yerr = metdata['MET_DIRECT_OII7319_ERR'], c='red',alpha=0.35, fmt=\".\", markersize=8, capsize=5)\n",
    "ax1.plot(seq, dirfunc7319(seq), c='red', linestyle=\"--\", label=f'[OII]7320 Directly Derived: y = {round(dirfunc7319[1],3)}x + {round(dirfunc7319[0],3)}')\n",
    "\n",
    "minm = np.min(metdata['MET_DIRECT_OII7319'][np.where(np.isnan(metdata['MET_DIRECT_OII7319']) == False)])\n",
    "maxm = np.max(metdata['MET_DIRECT_OII7319'][np.where(np.isnan(metdata['MET_DIRECT_OII7319']) == False)])\n",
    "minmerr = np.min(metdata['MET_DIRECT_OII7319_ERR'][np.where(np.isnan(metdata['MET_DIRECT_OII7319_ERR']) == False)])\n",
    "maxmerr = np.max(metdata['MET_DIRECT_OII7319_ERR'][np.where(np.isnan(metdata['MET_DIRECT_OII7319_ERR']) == False)])\n",
    "plt.xlim([np.min(kpc) - np.min(kpc)*0.01, np.max(kpc) + np.max(kpc)*0.01])\n",
    "#plt.xlim(2, 8.5)\n",
    "plt.ylim([minm - maxmerr*1.2, maxm + maxmerr*0.9])\n",
    "\n",
    "plt.xlabel('Galactocentric Radius (kpc)', fontsize=15)\n",
    "plt.ylabel('12 + log(O/H)', fontsize=15)\n",
    "metnum = len(np.where(np.isnan(metdata['MET_DIRECT']) == False)[0])\n",
    "plt.title(f'Metallicity calculations in {galaxy}')\n",
    "plt.legend(bbox_to_anchor=(1.6, 0.5), fontsize=\"9\",loc='center right');\n",
    "plt.show()"
   ]
  },
  {
   "attachments": {},
   "cell_type": "markdown",
   "id": "37ddf147",
   "metadata": {},
   "source": [
    "# Save Metallicity Results"
   ]
  },
  {
   "cell_type": "code",
   "execution_count": null,
   "id": "204a47e9",
   "metadata": {},
   "outputs": [],
   "source": [
    "metdata.write(f'/home/habjan/jupfiles/data/{galaxy}_physdata.fits', overwrite=True)  #, overwrite=True"
   ]
  }
 ],
 "metadata": {
  "kernelspec": {
   "display_name": "Python 3 (ipykernel)",
   "language": "python",
   "name": "python3"
  },
  "language_info": {
   "codemirror_mode": {
    "name": "ipython",
    "version": 3
   },
   "file_extension": ".py",
   "mimetype": "text/x-python",
   "name": "python",
   "nbconvert_exporter": "python",
   "pygments_lexer": "ipython3",
   "version": "3.10.11"
  }
 },
 "nbformat": 4,
 "nbformat_minor": 5
}
